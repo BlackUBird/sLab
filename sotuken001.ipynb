{
  "nbformat": 4,
  "nbformat_minor": 0,
  "metadata": {
    "colab": {
      "provenance": [],
      "authorship_tag": "ABX9TyPXLqdQztfyeJXS3Hq+uzDb",
      "include_colab_link": true
    },
    "kernelspec": {
      "name": "python3",
      "display_name": "Python 3"
    },
    "language_info": {
      "name": "python"
    }
  },
  "cells": [
    {
      "cell_type": "markdown",
      "metadata": {
        "id": "view-in-github",
        "colab_type": "text"
      },
      "source": [
        "<a href=\"https://colab.research.google.com/github/BlackUBird/sLab/blob/main/sotuken001.ipynb\" target=\"_parent\"><img src=\"https://colab.research.google.com/assets/colab-badge.svg\" alt=\"Open In Colab\"/></a>"
      ]
    },
    {
      "cell_type": "markdown",
      "source": [
        "#**2022/12/07 追記**\n",
        "背景差分に必要な精度を調べるために、2つの画像の差分(変更のあった画素の数)を調べる  \n",
        "openCV使用"
      ],
      "metadata": {
        "id": "lFYmjNmzQDO2"
      }
    },
    {
      "cell_type": "code",
      "execution_count": 15,
      "metadata": {
        "id": "K-B-mxcpP55v"
      },
      "outputs": [],
      "source": [
        "import cv2\n",
        "import numpy as np\n"
      ]
    },
    {
      "cell_type": "code",
      "source": [
        "# 読み込む画像の名前\n",
        "\"\"\"\n",
        "ImageNames = [\n",
        "    \"osc2022_8_10_2.png\" ,\n",
        "    \"osc2022_8_10_3.png\" ,\n",
        "    \"osc2022_8_10_5.png\" ,\n",
        "    \"osc2022_8_10_6.png\" ,\n",
        "    \"osc2022_8_24_0.png\" ,\n",
        "    \"osc2022_8_24_36.png\" ,\n",
        "    \"osc2022_8_24_37.png\" ,\n",
        "    \"osc2022_8_24_40.png\" ,\n",
        "    \"osc2022_8_31_0.png\" ,\n",
        "    \"osc2022_9_7_0.png\" ,\n",
        "    \"osc2022_9_12_17.png\" ,\n",
        "    \"osc2022_9_12_18.png\" ,\n",
        "    \"osc2022_9_21_0.png\" ,\n",
        "    \"osc2022_9_21_5.png\" ,\n",
        "    \"osc2022_10_5_16.png\" ,\n",
        "    \"osc2022_10_5_58.png\" ,\n",
        "]\n",
        "\"\"\"\n",
        "ImageNames = [\n",
        "    [ \"osc2022_8_10_2.png\" , \"osc2022_8_10_3.png\" , \"osc2022_8_10_5.png\" , \"osc2022_8_10_6.png\" ],\n",
        "    [ \"osc2022_8_24_0.png\" , \"osc2022_8_24_36.png\" , \"osc2022_8_24_37.png\" , \"osc2022_8_24_40.png\" ],\n",
        "    [ \"osc2022_8_31_0.png\" ],\n",
        "    [ \"osc2022_9_7_0.png\" ],\n",
        "    [ \"osc2022_9_12_17.png\" , \"osc2022_9_12_18.png\" ],\n",
        "    [ \"osc2022_9_21_0.png\" , \"osc2022_9_21_5.png\" ],\n",
        "    [ \"osc2022_10_5_16.png\" , \"osc2022_10_5_58.png\" ],\n",
        "]\n",
        "ImageNamesLen = len( ImageNames )\n",
        "\n",
        "for i in range( 0 , ImageNamesLen , 1 ):\n",
        "  print( i , \":\" ,  ImageNames[ i ] )\n"
      ],
      "metadata": {
        "colab": {
          "base_uri": "https://localhost:8080/"
        },
        "id": "iv_FJyt4Q4VB",
        "outputId": "fd1d28ba-dda4-4a90-e352-a7549ce16715"
      },
      "execution_count": 79,
      "outputs": [
        {
          "output_type": "stream",
          "name": "stdout",
          "text": [
            "0 : ['osc2022_8_10_2.png', 'osc2022_8_10_3.png', 'osc2022_8_10_5.png', 'osc2022_8_10_6.png']\n",
            "1 : ['osc2022_8_24_0.png', 'osc2022_8_24_36.png', 'osc2022_8_24_37.png', 'osc2022_8_24_40.png']\n",
            "2 : ['osc2022_8_31_0.png']\n",
            "3 : ['osc2022_9_7_0.png']\n",
            "4 : ['osc2022_9_12_17.png', 'osc2022_9_12_18.png']\n",
            "5 : ['osc2022_9_21_0.png', 'osc2022_9_21_5.png']\n",
            "6 : ['osc2022_10_5_16.png', 'osc2022_10_5_58.png']\n"
          ]
        }
      ]
    },
    {
      "cell_type": "markdown",
      "source": [
        "#**各画素の差分値を返す関数**  \n",
        "**宣言**  \n",
        "GetImageDiff(im1,im2)  \n",
        "**引数について**  \n",
        "im1,im2 ：差分を求める画像  \n",
        "**返却値について**  \n",
        "im_diff ：求めた差分を格納した２次元配列"
      ],
      "metadata": {
        "id": "no5p4pEJZzQD"
      }
    },
    {
      "cell_type": "code",
      "source": [
        "def GetImageDiff( im1 , im2 ):\n",
        "  # 判別\n",
        "  print( \"im1 == im2 ? :\" , np.array_equal( im1 , im2 ) )\n",
        "\n",
        "  # 画像が同じ形でなければエラーとして終了\n",
        "  if im1.shape != im2.shape :\n",
        "    return None\n",
        "\n",
        "  # 差分の値\n",
        "  # 符号あり整数で計算(astype(int))\n",
        "#  print( \"Now:Get[Difference]\" )\n",
        "  im_diff = im1.astype(int) - im2.astype(int)\n",
        "  # 差分の値の最大値・最小値を表示\n",
        "#  print( \"Difference(max):\" , im_diff.max() )\n",
        "#  print( \"Difference(min):\" , im_diff.min() )\n",
        "\n",
        "  # 差分の値(符号あり)を返却\n",
        "#  print( \"return [Difference]\" )\n",
        "  return im_diff\n",
        "\n",
        "\n"
      ],
      "metadata": {
        "id": "uDiLsNsQUb5w"
      },
      "execution_count": 74,
      "outputs": []
    },
    {
      "cell_type": "markdown",
      "source": [
        "#**差分値が0でない画素の数を返却**  \n",
        "**宣言**  \n",
        "GetImageDiff_PixelNum( im_diff )  \n",
        "**引数**  \n",
        "im_diff ：事前に取得しておいた差分値  \n",
        "**返却値**  \n",
        "im_diff_pixel_num ：差分値が0でない画素の総数"
      ],
      "metadata": {
        "id": "kivCqW3rwYSH"
      }
    },
    {
      "cell_type": "code",
      "source": [
        "def GetImageDiff_PixelNum( im_diff ):\n",
        "  # 総数を格納\n",
        "  im_diff_pixel_num = 0\n",
        "  # 画像を格納した配列の形\n",
        "  height,width = im_diff.shape\n",
        "  print( height,width)\n",
        "\n",
        "  # 数え上げ\n",
        "  for i in range( width ):\n",
        "    for j in range( height ):\n",
        "      if im_diff[j , i] != 0:\n",
        "        im_diff_pixel_num += 1\n",
        "\n",
        "  # 返却\n",
        "  return im_diff_pixel_num"
      ],
      "metadata": {
        "id": "9ZggFLmgwXm8"
      },
      "execution_count": 75,
      "outputs": []
    },
    {
      "cell_type": "code",
      "source": [
        "# 画像の差分値を求める\n",
        "# 変更があった画素の数の総数\n",
        "im_diff_pixel_num_all = 0\n",
        "\n",
        "for i in range( 0 , ImageNamesLen , 1 ):\n",
        "  im_diff_pixel_num_ave = 0\n",
        "  for j in range( 0 , len(ImageNames[i])-1 , 1 ):\n",
        "    # 今回使用する画像の名前を表示\n",
        "    print( ImageNames[i][j] , '-' , ImageNames[i][j+1] ) \n",
        "    # 画像の読み込み\n",
        "    im1 = cv2.imread( ImageNames[i][j] , cv2.IMREAD_GRAYSCALE )\n",
        "    im2 = cv2.imread( ImageNames[i][j+1] , cv2.IMREAD_GRAYSCALE )\n",
        "\n",
        "    # 各画素の差分値を取得\n",
        "    im_diff = GetImageDiff( im1 , im2 )\n",
        "    # 絶対値にする\n",
        "    im_diff_abs = np.abs( im_diff )\n",
        "\n",
        "    #変更があった画素の数を取得\n",
        "    im_diff_pixel_num = GetImageDiff_PixelNum( im_diff )\n",
        "    print( 'Number of difference:' , im_diff_pixel_num )\n",
        "    # 変更があった画素の数の総数を変更\n",
        "    im_diff_pixel_num_ave += im_diff_pixel_num\n",
        "\n",
        "    # 画像として出力\n",
        "    cv2.imwrite( 'im_diff' + str(i) + '_' + str(j) + '_' + str(j+1) + '.png' , im_diff_abs )\n",
        "\n",
        "  #今回の変化があった画素数の平均を求める\n",
        "  if len(ImageNames[i])-1 == 0:\n",
        "    continue\n",
        "  else:\n",
        "    im_diff_pixel_num_ave = im_diff_pixel_num_ave / (len(ImageNames[i])-1)\n",
        "    # 変更があった画素の数の総数に加える\n",
        "    im_diff_pixel_num_all += im_diff_pixel_num_ave\n",
        "\n",
        "# 変更があった画素の数の総数から平均値を算出して表示\n",
        "print( 'Average(im_diff_pixel_num_all):' , im_diff_pixel_num_all/ImageNamesLen )\n",
        "\n"
      ],
      "metadata": {
        "colab": {
          "base_uri": "https://localhost:8080/"
        },
        "id": "kD2KprvfcJ0Z",
        "outputId": "2b815478-bfb5-4838-817e-b456ceba5f4e"
      },
      "execution_count": 85,
      "outputs": [
        {
          "output_type": "stream",
          "name": "stdout",
          "text": [
            "osc2022_8_10_2.png - osc2022_8_10_3.png\n",
            "im1 == im2 ? : False\n",
            "540 960\n",
            "Number of difference: 362577\n",
            "osc2022_8_10_3.png - osc2022_8_10_5.png\n",
            "im1 == im2 ? : False\n",
            "540 960\n",
            "Number of difference: 383324\n",
            "osc2022_8_10_5.png - osc2022_8_10_6.png\n",
            "im1 == im2 ? : False\n",
            "540 960\n",
            "Number of difference: 489902\n",
            "osc2022_8_24_0.png - osc2022_8_24_36.png\n",
            "im1 == im2 ? : False\n",
            "540 960\n",
            "Number of difference: 487079\n",
            "osc2022_8_24_36.png - osc2022_8_24_37.png\n",
            "im1 == im2 ? : False\n",
            "540 960\n",
            "Number of difference: 341013\n",
            "osc2022_8_24_37.png - osc2022_8_24_40.png\n",
            "im1 == im2 ? : False\n",
            "540 960\n",
            "Number of difference: 486027\n",
            "osc2022_9_12_17.png - osc2022_9_12_18.png\n",
            "im1 == im2 ? : False\n",
            "540 960\n",
            "Number of difference: 358912\n",
            "osc2022_9_21_0.png - osc2022_9_21_5.png\n",
            "im1 == im2 ? : False\n",
            "540 960\n",
            "Number of difference: 410461\n",
            "osc2022_10_5_16.png - osc2022_10_5_58.png\n",
            "im1 == im2 ? : False\n",
            "540 960\n",
            "Number of difference: 503970\n",
            "Average(im_diff_pixel_num_all): 303331.0\n"
          ]
        }
      ]
    }
  ]
}